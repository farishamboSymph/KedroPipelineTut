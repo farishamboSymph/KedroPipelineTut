{
 "cells": [
  {
   "cell_type": "code",
   "execution_count": 5,
   "id": "1e7607ce",
   "metadata": {},
   "outputs": [],
   "source": [
    "import kedro"
   ]
  },
  {
   "cell_type": "code",
   "execution_count": 9,
   "id": "d775005b",
   "metadata": {
    "scrolled": true
   },
   "outputs": [
    {
     "name": "stdout",
     "output_type": "stream",
     "text": [
      "Requirement already satisfied: kedro[pandas] in /Users/farishambo/opt/anaconda3/envs/kedro-environment/lib/python3.7/site-packages (0.18.0)\n",
      "Requirement already satisfied: pip-tools~=6.5 in /Users/farishambo/opt/anaconda3/envs/kedro-environment/lib/python3.7/site-packages (from kedro[pandas]) (6.5.1)\n",
      "Requirement already satisfied: pluggy~=1.0.0 in /Users/farishambo/opt/anaconda3/envs/kedro-environment/lib/python3.7/site-packages (from kedro[pandas]) (1.0.0)\n",
      "Requirement already satisfied: toml~=0.10 in /Users/farishambo/opt/anaconda3/envs/kedro-environment/lib/python3.7/site-packages (from kedro[pandas]) (0.10.2)\n",
      "Requirement already satisfied: click<9.0 in /Users/farishambo/opt/anaconda3/envs/kedro-environment/lib/python3.7/site-packages (from kedro[pandas]) (8.1.2)\n",
      "Requirement already satisfied: python-json-logger~=2.0 in /Users/farishambo/opt/anaconda3/envs/kedro-environment/lib/python3.7/site-packages (from kedro[pandas]) (2.0.1)\n",
      "Requirement already satisfied: cookiecutter~=1.7.0 in /Users/farishambo/opt/anaconda3/envs/kedro-environment/lib/python3.7/site-packages (from kedro[pandas]) (1.7.3)\n",
      "Requirement already satisfied: dynaconf<4.0.0,>=3.1.2 in /Users/farishambo/opt/anaconda3/envs/kedro-environment/lib/python3.7/site-packages (from kedro[pandas]) (3.1.5)\n",
      "Requirement already satisfied: jmespath<1.0,>=0.9.5 in /Users/farishambo/opt/anaconda3/envs/kedro-environment/lib/python3.7/site-packages (from kedro[pandas]) (0.10.0)\n",
      "Requirement already satisfied: rope~=0.21.0 in /Users/farishambo/opt/anaconda3/envs/kedro-environment/lib/python3.7/site-packages (from kedro[pandas]) (0.21.1)\n",
      "Requirement already satisfied: gitpython~=3.0 in /Users/farishambo/opt/anaconda3/envs/kedro-environment/lib/python3.7/site-packages (from kedro[pandas]) (3.1.27)\n",
      "Requirement already satisfied: cachetools~=4.1 in /Users/farishambo/opt/anaconda3/envs/kedro-environment/lib/python3.7/site-packages (from kedro[pandas]) (4.2.4)\n",
      "Requirement already satisfied: toposort~=1.5 in /Users/farishambo/opt/anaconda3/envs/kedro-environment/lib/python3.7/site-packages (from kedro[pandas]) (1.7)\n",
      "Requirement already satisfied: fsspec<=2022.1,>=2021.4 in /Users/farishambo/opt/anaconda3/envs/kedro-environment/lib/python3.7/site-packages (from kedro[pandas]) (2022.1.0)\n",
      "Requirement already satisfied: PyYAML<6.0,>=4.2 in /Users/farishambo/opt/anaconda3/envs/kedro-environment/lib/python3.7/site-packages (from kedro[pandas]) (5.4.1)\n",
      "Requirement already satisfied: anyconfig~=0.10.0 in /Users/farishambo/opt/anaconda3/envs/kedro-environment/lib/python3.7/site-packages (from kedro[pandas]) (0.10.1)\n",
      "Requirement already satisfied: setuptools>=38.0 in /Users/farishambo/opt/anaconda3/envs/kedro-environment/lib/python3.7/site-packages (from kedro[pandas]) (58.0.4)\n",
      "Requirement already satisfied: lxml~=4.6 in /Users/farishambo/opt/anaconda3/envs/kedro-environment/lib/python3.7/site-packages (from kedro[pandas]) (4.8.0)\n",
      "Requirement already satisfied: openpyxl<4.0,>=3.0.6 in /Users/farishambo/opt/anaconda3/envs/kedro-environment/lib/python3.7/site-packages (from kedro[pandas]) (3.0.9)\n",
      "Requirement already satisfied: pyarrow<7.0,>=1.0 in /Users/farishambo/opt/anaconda3/envs/kedro-environment/lib/python3.7/site-packages (from kedro[pandas]) (6.0.1)\n",
      "Requirement already satisfied: SQLAlchemy~=1.2 in /Users/farishambo/opt/anaconda3/envs/kedro-environment/lib/python3.7/site-packages (from kedro[pandas]) (1.4.34)\n",
      "Requirement already satisfied: tables~=3.6 in /Users/farishambo/opt/anaconda3/envs/kedro-environment/lib/python3.7/site-packages (from kedro[pandas]) (3.7.0)\n",
      "Requirement already satisfied: pandas~=1.3 in /Users/farishambo/opt/anaconda3/envs/kedro-environment/lib/python3.7/site-packages (from kedro[pandas]) (1.3.5)\n",
      "Requirement already satisfied: pandas-gbq<1.0,>=0.12.0 in /Users/farishambo/opt/anaconda3/envs/kedro-environment/lib/python3.7/site-packages (from kedro[pandas]) (0.17.4)\n",
      "Requirement already satisfied: importlib-metadata in /Users/farishambo/opt/anaconda3/envs/kedro-environment/lib/python3.7/site-packages (from click<9.0->kedro[pandas]) (4.11.3)\n",
      "Requirement already satisfied: requests>=2.23.0 in /Users/farishambo/opt/anaconda3/envs/kedro-environment/lib/python3.7/site-packages (from cookiecutter~=1.7.0->kedro[pandas]) (2.25.1)\n",
      "Requirement already satisfied: binaryornot>=0.4.4 in /Users/farishambo/opt/anaconda3/envs/kedro-environment/lib/python3.7/site-packages (from cookiecutter~=1.7.0->kedro[pandas]) (0.4.4)\n",
      "Requirement already satisfied: Jinja2<4.0.0,>=2.7 in /Users/farishambo/opt/anaconda3/envs/kedro-environment/lib/python3.7/site-packages (from cookiecutter~=1.7.0->kedro[pandas]) (3.1.1)\n",
      "Requirement already satisfied: python-slugify>=4.0.0 in /Users/farishambo/opt/anaconda3/envs/kedro-environment/lib/python3.7/site-packages (from cookiecutter~=1.7.0->kedro[pandas]) (6.1.1)\n",
      "Requirement already satisfied: jinja2-time>=0.2.0 in /Users/farishambo/opt/anaconda3/envs/kedro-environment/lib/python3.7/site-packages (from cookiecutter~=1.7.0->kedro[pandas]) (0.2.0)\n",
      "Requirement already satisfied: poyo>=0.5.0 in /Users/farishambo/opt/anaconda3/envs/kedro-environment/lib/python3.7/site-packages (from cookiecutter~=1.7.0->kedro[pandas]) (0.5.0)\n",
      "Requirement already satisfied: six>=1.10 in /Users/farishambo/opt/anaconda3/envs/kedro-environment/lib/python3.7/site-packages (from cookiecutter~=1.7.0->kedro[pandas]) (1.16.0)\n",
      "Requirement already satisfied: chardet>=3.0.2 in /Users/farishambo/opt/anaconda3/envs/kedro-environment/lib/python3.7/site-packages (from binaryornot>=0.4.4->cookiecutter~=1.7.0->kedro[pandas]) (4.0.0)\n",
      "Requirement already satisfied: gitdb<5,>=4.0.1 in /Users/farishambo/opt/anaconda3/envs/kedro-environment/lib/python3.7/site-packages (from gitpython~=3.0->kedro[pandas]) (4.0.9)\n",
      "Requirement already satisfied: typing-extensions>=3.7.4.3 in /Users/farishambo/opt/anaconda3/envs/kedro-environment/lib/python3.7/site-packages (from gitpython~=3.0->kedro[pandas]) (4.1.1)\n",
      "Requirement already satisfied: smmap<6,>=3.0.1 in /Users/farishambo/opt/anaconda3/envs/kedro-environment/lib/python3.7/site-packages (from gitdb<5,>=4.0.1->gitpython~=3.0->kedro[pandas]) (3.0.5)\n",
      "Requirement already satisfied: MarkupSafe>=2.0 in /Users/farishambo/opt/anaconda3/envs/kedro-environment/lib/python3.7/site-packages (from Jinja2<4.0.0,>=2.7->cookiecutter~=1.7.0->kedro[pandas]) (2.1.1)\n",
      "Requirement already satisfied: arrow in /Users/farishambo/opt/anaconda3/envs/kedro-environment/lib/python3.7/site-packages (from jinja2-time>=0.2.0->cookiecutter~=1.7.0->kedro[pandas]) (1.2.2)\n",
      "Requirement already satisfied: et-xmlfile in /Users/farishambo/opt/anaconda3/envs/kedro-environment/lib/python3.7/site-packages (from openpyxl<4.0,>=3.0.6->kedro[pandas]) (1.1.0)\n",
      "Requirement already satisfied: python-dateutil>=2.7.3 in /Users/farishambo/opt/anaconda3/envs/kedro-environment/lib/python3.7/site-packages (from pandas~=1.3->kedro[pandas]) (2.8.2)\n",
      "Requirement already satisfied: pytz>=2017.3 in /Users/farishambo/opt/anaconda3/envs/kedro-environment/lib/python3.7/site-packages (from pandas~=1.3->kedro[pandas]) (2022.1)\n",
      "Requirement already satisfied: numpy>=1.17.3 in /Users/farishambo/opt/anaconda3/envs/kedro-environment/lib/python3.7/site-packages (from pandas~=1.3->kedro[pandas]) (1.21.5)\n",
      "Requirement already satisfied: google-auth>=1.25.0 in /Users/farishambo/opt/anaconda3/envs/kedro-environment/lib/python3.7/site-packages (from pandas-gbq<1.0,>=0.12.0->kedro[pandas]) (2.6.2)\n",
      "Requirement already satisfied: db-dtypes<2.0.0,>=0.3.1 in /Users/farishambo/opt/anaconda3/envs/kedro-environment/lib/python3.7/site-packages (from pandas-gbq<1.0,>=0.12.0->kedro[pandas]) (1.0.0)\n",
      "Requirement already satisfied: google-api-core!=2.0.*,!=2.1.*,!=2.2.*,!=2.3.0,<3.0.0dev,>=1.31.5 in /Users/farishambo/opt/anaconda3/envs/kedro-environment/lib/python3.7/site-packages (from pandas-gbq<1.0,>=0.12.0->kedro[pandas]) (2.7.1)\n",
      "Requirement already satisfied: pydata-google-auth in /Users/farishambo/opt/anaconda3/envs/kedro-environment/lib/python3.7/site-packages (from pandas-gbq<1.0,>=0.12.0->kedro[pandas]) (1.4.0)\n",
      "Requirement already satisfied: google-cloud-bigquery-storage<3.0.0dev,>=1.1.0 in /Users/farishambo/opt/anaconda3/envs/kedro-environment/lib/python3.7/site-packages (from pandas-gbq<1.0,>=0.12.0->kedro[pandas]) (2.13.1)\n",
      "Requirement already satisfied: google-cloud-bigquery!=2.4.*,<4.0.0dev,>=1.27.2 in /Users/farishambo/opt/anaconda3/envs/kedro-environment/lib/python3.7/site-packages (from pandas-gbq<1.0,>=0.12.0->kedro[pandas]) (3.0.1)\n",
      "Requirement already satisfied: google-auth-oauthlib>=0.0.1 in /Users/farishambo/opt/anaconda3/envs/kedro-environment/lib/python3.7/site-packages (from pandas-gbq<1.0,>=0.12.0->kedro[pandas]) (0.4.6)\n",
      "Requirement already satisfied: packaging>=17.0 in /Users/farishambo/opt/anaconda3/envs/kedro-environment/lib/python3.7/site-packages (from db-dtypes<2.0.0,>=0.3.1->pandas-gbq<1.0,>=0.12.0->kedro[pandas]) (21.3)\n",
      "Requirement already satisfied: googleapis-common-protos<2.0dev,>=1.52.0 in /Users/farishambo/opt/anaconda3/envs/kedro-environment/lib/python3.7/site-packages (from google-api-core!=2.0.*,!=2.1.*,!=2.2.*,!=2.3.0,<3.0.0dev,>=1.31.5->pandas-gbq<1.0,>=0.12.0->kedro[pandas]) (1.56.0)\n",
      "Requirement already satisfied: protobuf>=3.12.0 in /Users/farishambo/opt/anaconda3/envs/kedro-environment/lib/python3.7/site-packages (from google-api-core!=2.0.*,!=2.1.*,!=2.2.*,!=2.3.0,<3.0.0dev,>=1.31.5->pandas-gbq<1.0,>=0.12.0->kedro[pandas]) (3.20.0)\n"
     ]
    },
    {
     "name": "stdout",
     "output_type": "stream",
     "text": [
      "Requirement already satisfied: rsa<5,>=3.1.4 in /Users/farishambo/opt/anaconda3/envs/kedro-environment/lib/python3.7/site-packages (from google-auth>=1.25.0->pandas-gbq<1.0,>=0.12.0->kedro[pandas]) (4.8)\n",
      "Requirement already satisfied: pyasn1-modules>=0.2.1 in /Users/farishambo/opt/anaconda3/envs/kedro-environment/lib/python3.7/site-packages (from google-auth>=1.25.0->pandas-gbq<1.0,>=0.12.0->kedro[pandas]) (0.2.8)\n",
      "Requirement already satisfied: requests-oauthlib>=0.7.0 in /Users/farishambo/opt/anaconda3/envs/kedro-environment/lib/python3.7/site-packages (from google-auth-oauthlib>=0.0.1->pandas-gbq<1.0,>=0.12.0->kedro[pandas]) (1.3.1)\n",
      "Requirement already satisfied: google-resumable-media<3.0dev,>=0.6.0 in /Users/farishambo/opt/anaconda3/envs/kedro-environment/lib/python3.7/site-packages (from google-cloud-bigquery!=2.4.*,<4.0.0dev,>=1.27.2->pandas-gbq<1.0,>=0.12.0->kedro[pandas]) (2.3.2)\n",
      "Requirement already satisfied: grpcio<2.0dev,>=1.38.1 in /Users/farishambo/opt/anaconda3/envs/kedro-environment/lib/python3.7/site-packages (from google-cloud-bigquery!=2.4.*,<4.0.0dev,>=1.27.2->pandas-gbq<1.0,>=0.12.0->kedro[pandas]) (1.44.0)\n",
      "Requirement already satisfied: proto-plus>=1.15.0 in /Users/farishambo/opt/anaconda3/envs/kedro-environment/lib/python3.7/site-packages (from google-cloud-bigquery!=2.4.*,<4.0.0dev,>=1.27.2->pandas-gbq<1.0,>=0.12.0->kedro[pandas]) (1.20.3)\n",
      "Requirement already satisfied: google-cloud-core<3.0.0dev,>=1.4.1 in /Users/farishambo/opt/anaconda3/envs/kedro-environment/lib/python3.7/site-packages (from google-cloud-bigquery!=2.4.*,<4.0.0dev,>=1.27.2->pandas-gbq<1.0,>=0.12.0->kedro[pandas]) (2.2.3)\n",
      "Requirement already satisfied: grpcio-status<2.0dev,>=1.33.2 in /Users/farishambo/opt/anaconda3/envs/kedro-environment/lib/python3.7/site-packages (from google-api-core!=2.0.*,!=2.1.*,!=2.2.*,!=2.3.0,<3.0.0dev,>=1.31.5->pandas-gbq<1.0,>=0.12.0->kedro[pandas]) (1.44.0)\n",
      "Requirement already satisfied: google-crc32c<2.0dev,>=1.0 in /Users/farishambo/opt/anaconda3/envs/kedro-environment/lib/python3.7/site-packages (from google-resumable-media<3.0dev,>=0.6.0->google-cloud-bigquery!=2.4.*,<4.0.0dev,>=1.27.2->pandas-gbq<1.0,>=0.12.0->kedro[pandas]) (1.3.0)\n",
      "Requirement already satisfied: pyparsing!=3.0.5,>=2.0.2 in /Users/farishambo/opt/anaconda3/envs/kedro-environment/lib/python3.7/site-packages (from packaging>=17.0->db-dtypes<2.0.0,>=0.3.1->pandas-gbq<1.0,>=0.12.0->kedro[pandas]) (3.0.7)\n",
      "Requirement already satisfied: pep517 in /Users/farishambo/opt/anaconda3/envs/kedro-environment/lib/python3.7/site-packages (from pip-tools~=6.5->kedro[pandas]) (0.12.0)\n",
      "Requirement already satisfied: pip>=21.2 in /Users/farishambo/opt/anaconda3/envs/kedro-environment/lib/python3.7/site-packages (from pip-tools~=6.5->kedro[pandas]) (21.2.2)\n",
      "Requirement already satisfied: wheel in /Users/farishambo/opt/anaconda3/envs/kedro-environment/lib/python3.7/site-packages (from pip-tools~=6.5->kedro[pandas]) (0.37.1)\n",
      "Requirement already satisfied: zipp>=0.5 in /Users/farishambo/opt/anaconda3/envs/kedro-environment/lib/python3.7/site-packages (from importlib-metadata->click<9.0->kedro[pandas]) (3.8.0)\n",
      "Requirement already satisfied: pyasn1<0.5.0,>=0.4.6 in /Users/farishambo/opt/anaconda3/envs/kedro-environment/lib/python3.7/site-packages (from pyasn1-modules>=0.2.1->google-auth>=1.25.0->pandas-gbq<1.0,>=0.12.0->kedro[pandas]) (0.4.8)\n",
      "Requirement already satisfied: text-unidecode>=1.3 in /Users/farishambo/opt/anaconda3/envs/kedro-environment/lib/python3.7/site-packages (from python-slugify>=4.0.0->cookiecutter~=1.7.0->kedro[pandas]) (1.3)\n",
      "Requirement already satisfied: certifi>=2017.4.17 in /Users/farishambo/opt/anaconda3/envs/kedro-environment/lib/python3.7/site-packages (from requests>=2.23.0->cookiecutter~=1.7.0->kedro[pandas]) (2021.10.8)\n",
      "Requirement already satisfied: urllib3<1.27,>=1.21.1 in /Users/farishambo/opt/anaconda3/envs/kedro-environment/lib/python3.7/site-packages (from requests>=2.23.0->cookiecutter~=1.7.0->kedro[pandas]) (1.26.9)\n",
      "Requirement already satisfied: idna<3,>=2.5 in /Users/farishambo/opt/anaconda3/envs/kedro-environment/lib/python3.7/site-packages (from requests>=2.23.0->cookiecutter~=1.7.0->kedro[pandas]) (2.10)\n",
      "Requirement already satisfied: oauthlib>=3.0.0 in /Users/farishambo/opt/anaconda3/envs/kedro-environment/lib/python3.7/site-packages (from requests-oauthlib>=0.7.0->google-auth-oauthlib>=0.0.1->pandas-gbq<1.0,>=0.12.0->kedro[pandas]) (3.2.0)\n",
      "Requirement already satisfied: greenlet!=0.4.17 in /Users/farishambo/opt/anaconda3/envs/kedro-environment/lib/python3.7/site-packages (from SQLAlchemy~=1.2->kedro[pandas]) (1.1.2)\n",
      "Requirement already satisfied: numexpr>=2.6.2 in /Users/farishambo/opt/anaconda3/envs/kedro-environment/lib/python3.7/site-packages (from tables~=3.6->kedro[pandas]) (2.8.1)\n",
      "Requirement already satisfied: tomli>=1.1.0 in /Users/farishambo/opt/anaconda3/envs/kedro-environment/lib/python3.7/site-packages (from pep517->pip-tools~=6.5->kedro[pandas]) (2.0.1)\n",
      "Note: you may need to restart the kernel to use updated packages.\n"
     ]
    }
   ],
   "source": [
    "%pip install \"kedro[pandas]\""
   ]
  },
  {
   "cell_type": "code",
   "execution_count": 1,
   "id": "9826981b",
   "metadata": {
    "scrolled": true
   },
   "outputs": [
    {
     "name": "stdout",
     "output_type": "stream",
     "text": [
      "2022-04-06 11:55:15,733 - kedro.io.data_catalog - INFO - Loading data from `companies` (CSVDataSet)...\n"
     ]
    },
    {
     "data": {
      "text/html": [
       "<div>\n",
       "<style scoped>\n",
       "    .dataframe tbody tr th:only-of-type {\n",
       "        vertical-align: middle;\n",
       "    }\n",
       "\n",
       "    .dataframe tbody tr th {\n",
       "        vertical-align: top;\n",
       "    }\n",
       "\n",
       "    .dataframe thead th {\n",
       "        text-align: right;\n",
       "    }\n",
       "</style>\n",
       "<table border=\"1\" class=\"dataframe\">\n",
       "  <thead>\n",
       "    <tr style=\"text-align: right;\">\n",
       "      <th></th>\n",
       "      <th>id</th>\n",
       "      <th>company_rating</th>\n",
       "      <th>company_location</th>\n",
       "      <th>total_fleet_count</th>\n",
       "      <th>iata_approved</th>\n",
       "    </tr>\n",
       "  </thead>\n",
       "  <tbody>\n",
       "    <tr>\n",
       "      <th>0</th>\n",
       "      <td>35029</td>\n",
       "      <td>100%</td>\n",
       "      <td>Niue</td>\n",
       "      <td>4.0</td>\n",
       "      <td>f</td>\n",
       "    </tr>\n",
       "    <tr>\n",
       "      <th>1</th>\n",
       "      <td>30292</td>\n",
       "      <td>67%</td>\n",
       "      <td>Anguilla</td>\n",
       "      <td>6.0</td>\n",
       "      <td>f</td>\n",
       "    </tr>\n",
       "    <tr>\n",
       "      <th>2</th>\n",
       "      <td>19032</td>\n",
       "      <td>67%</td>\n",
       "      <td>Russian Federation</td>\n",
       "      <td>4.0</td>\n",
       "      <td>f</td>\n",
       "    </tr>\n",
       "    <tr>\n",
       "      <th>3</th>\n",
       "      <td>8238</td>\n",
       "      <td>91%</td>\n",
       "      <td>Barbados</td>\n",
       "      <td>15.0</td>\n",
       "      <td>t</td>\n",
       "    </tr>\n",
       "    <tr>\n",
       "      <th>4</th>\n",
       "      <td>30342</td>\n",
       "      <td>NaN</td>\n",
       "      <td>Sao Tome and Principe</td>\n",
       "      <td>2.0</td>\n",
       "      <td>t</td>\n",
       "    </tr>\n",
       "  </tbody>\n",
       "</table>\n",
       "</div>"
      ],
      "text/plain": [
       "      id company_rating       company_location  total_fleet_count  \\\n",
       "0  35029           100%                   Niue                4.0   \n",
       "1  30292            67%               Anguilla                6.0   \n",
       "2  19032            67%     Russian Federation                4.0   \n",
       "3   8238            91%               Barbados               15.0   \n",
       "4  30342            NaN  Sao Tome and Principe                2.0   \n",
       "\n",
       "  iata_approved  \n",
       "0             f  \n",
       "1             f  \n",
       "2             f  \n",
       "3             t  \n",
       "4             t  "
      ]
     },
     "execution_count": 1,
     "metadata": {},
     "output_type": "execute_result"
    }
   ],
   "source": [
    "companies = catalog.load(\"companies\")\n",
    "companies.head()"
   ]
  },
  {
   "cell_type": "code",
   "execution_count": 2,
   "id": "5536d5b3",
   "metadata": {
    "collapsed": true
   },
   "outputs": [
    {
     "name": "stdout",
     "output_type": "stream",
     "text": [
      "2022-04-06 11:19:03,352 - root - INFO - No path argument was provided. Using: /Users/farishambo/testProject/kedro-tutorial\n",
      "2022-04-06 11:19:03,480 - kedro.framework.session.store - INFO - `read()` not implemented for `BaseSessionStore`. Assuming empty store.\n",
      "2022-04-06 11:19:03,519 - kedro.framework.session.session - WARNING - Unable to git describe /Users/farishambo/testProject/kedro-tutorial\n"
     ]
    },
    {
     "name": "stderr",
     "output_type": "stream",
     "text": [
      "fatal: not a git repository (or any of the parent directories): .git\n"
     ]
    },
    {
     "ename": "DataSetError",
     "evalue": "An exception occurred when parsing config for DataSet `companies`:\nObject `CSVDataSet` cannot be loaded from `kedro.extras.datasets.pandas`. Please see the documentation on how to install relevant dependencies for kedro.extras.datasets.pandas.CSVDataSet:\nhttps://kedro.readthedocs.io/en/stable/kedro_project_setup/dependencies.html",
     "output_type": "error",
     "traceback": [
      "\u001b[0;31m---------------------------------------------------------------------------\u001b[0m",
      "\u001b[0;31mAttributeError\u001b[0m                            Traceback (most recent call last)",
      "\u001b[0;32m~/opt/anaconda3/envs/kedro-environment/lib/python3.7/site-packages/kedro/io/core.py\u001b[0m in \u001b[0;36m_load_obj\u001b[0;34m(class_path)\u001b[0m\n\u001b[1;32m    431\u001b[0m     \u001b[0;32mtry\u001b[0m\u001b[0;34m:\u001b[0m\u001b[0;34m\u001b[0m\u001b[0;34m\u001b[0m\u001b[0m\n\u001b[0;32m--> 432\u001b[0;31m         \u001b[0mclass_obj\u001b[0m \u001b[0;34m=\u001b[0m \u001b[0mload_obj\u001b[0m\u001b[0;34m(\u001b[0m\u001b[0mclass_path\u001b[0m\u001b[0;34m)\u001b[0m\u001b[0;34m\u001b[0m\u001b[0;34m\u001b[0m\u001b[0m\n\u001b[0m\u001b[1;32m    433\u001b[0m     \u001b[0;32mexcept\u001b[0m \u001b[0;34m(\u001b[0m\u001b[0mModuleNotFoundError\u001b[0m\u001b[0;34m,\u001b[0m \u001b[0mValueError\u001b[0m\u001b[0;34m)\u001b[0m\u001b[0;34m:\u001b[0m\u001b[0;34m\u001b[0m\u001b[0;34m\u001b[0m\u001b[0m\n",
      "\u001b[0;32m~/opt/anaconda3/envs/kedro-environment/lib/python3.7/site-packages/kedro/utils.py\u001b[0m in \u001b[0;36mload_obj\u001b[0;34m(obj_path, default_obj_path)\u001b[0m\n\u001b[1;32m     26\u001b[0m     \u001b[0;32mif\u001b[0m \u001b[0;32mnot\u001b[0m \u001b[0mhasattr\u001b[0m\u001b[0;34m(\u001b[0m\u001b[0mmodule_obj\u001b[0m\u001b[0;34m,\u001b[0m \u001b[0mobj_name\u001b[0m\u001b[0;34m)\u001b[0m\u001b[0;34m:\u001b[0m\u001b[0;34m\u001b[0m\u001b[0;34m\u001b[0m\u001b[0m\n\u001b[0;32m---> 27\u001b[0;31m         \u001b[0;32mraise\u001b[0m \u001b[0mAttributeError\u001b[0m\u001b[0;34m(\u001b[0m\u001b[0;34mf\"Object `{obj_name}` cannot be loaded from `{obj_path}`.\"\u001b[0m\u001b[0;34m)\u001b[0m\u001b[0;34m\u001b[0m\u001b[0;34m\u001b[0m\u001b[0m\n\u001b[0m\u001b[1;32m     28\u001b[0m     \u001b[0;32mreturn\u001b[0m \u001b[0mgetattr\u001b[0m\u001b[0;34m(\u001b[0m\u001b[0mmodule_obj\u001b[0m\u001b[0;34m,\u001b[0m \u001b[0mobj_name\u001b[0m\u001b[0;34m)\u001b[0m\u001b[0;34m\u001b[0m\u001b[0;34m\u001b[0m\u001b[0m\n",
      "\u001b[0;31mAttributeError\u001b[0m: Object `CSVDataSet` cannot be loaded from `kedro.extras.datasets.pandas`.",
      "\nThe above exception was the direct cause of the following exception:\n",
      "\u001b[0;31mDataSetError\u001b[0m                              Traceback (most recent call last)",
      "\u001b[0;32m~/opt/anaconda3/envs/kedro-environment/lib/python3.7/site-packages/kedro/io/core.py\u001b[0m in \u001b[0;36mfrom_config\u001b[0;34m(cls, name, config, load_version, save_version)\u001b[0m\n\u001b[1;32m    141\u001b[0m             class_obj, config = parse_dataset_definition(\n\u001b[0;32m--> 142\u001b[0;31m                 \u001b[0mconfig\u001b[0m\u001b[0;34m,\u001b[0m \u001b[0mload_version\u001b[0m\u001b[0;34m,\u001b[0m \u001b[0msave_version\u001b[0m\u001b[0;34m\u001b[0m\u001b[0;34m\u001b[0m\u001b[0m\n\u001b[0m\u001b[1;32m    143\u001b[0m             )\n",
      "\u001b[0;32m~/opt/anaconda3/envs/kedro-environment/lib/python3.7/site-packages/kedro/io/core.py\u001b[0m in \u001b[0;36mparse_dataset_definition\u001b[0;34m(config, load_version, save_version)\u001b[0m\n\u001b[1;32m    386\u001b[0m         \u001b[0;32mtry\u001b[0m\u001b[0;34m:\u001b[0m\u001b[0;34m\u001b[0m\u001b[0;34m\u001b[0m\u001b[0m\n\u001b[0;32m--> 387\u001b[0;31m             \u001b[0mclass_obj\u001b[0m \u001b[0;34m=\u001b[0m \u001b[0mnext\u001b[0m\u001b[0;34m(\u001b[0m\u001b[0mobj\u001b[0m \u001b[0;32mfor\u001b[0m \u001b[0mobj\u001b[0m \u001b[0;32min\u001b[0m \u001b[0mtrials\u001b[0m \u001b[0;32mif\u001b[0m \u001b[0mobj\u001b[0m \u001b[0;32mis\u001b[0m \u001b[0;32mnot\u001b[0m \u001b[0;32mNone\u001b[0m\u001b[0;34m)\u001b[0m\u001b[0;34m\u001b[0m\u001b[0;34m\u001b[0m\u001b[0m\n\u001b[0m\u001b[1;32m    388\u001b[0m         \u001b[0;32mexcept\u001b[0m \u001b[0mStopIteration\u001b[0m \u001b[0;32mas\u001b[0m \u001b[0mexc\u001b[0m\u001b[0;34m:\u001b[0m\u001b[0;34m\u001b[0m\u001b[0;34m\u001b[0m\u001b[0m\n",
      "\u001b[0;32m~/opt/anaconda3/envs/kedro-environment/lib/python3.7/site-packages/kedro/io/core.py\u001b[0m in \u001b[0;36m<genexpr>\u001b[0;34m(.0)\u001b[0m\n\u001b[1;32m    386\u001b[0m         \u001b[0;32mtry\u001b[0m\u001b[0;34m:\u001b[0m\u001b[0;34m\u001b[0m\u001b[0;34m\u001b[0m\u001b[0m\n\u001b[0;32m--> 387\u001b[0;31m             \u001b[0mclass_obj\u001b[0m \u001b[0;34m=\u001b[0m \u001b[0mnext\u001b[0m\u001b[0;34m(\u001b[0m\u001b[0mobj\u001b[0m \u001b[0;32mfor\u001b[0m \u001b[0mobj\u001b[0m \u001b[0;32min\u001b[0m \u001b[0mtrials\u001b[0m \u001b[0;32mif\u001b[0m \u001b[0mobj\u001b[0m \u001b[0;32mis\u001b[0m \u001b[0;32mnot\u001b[0m \u001b[0;32mNone\u001b[0m\u001b[0;34m)\u001b[0m\u001b[0;34m\u001b[0m\u001b[0;34m\u001b[0m\u001b[0m\n\u001b[0m\u001b[1;32m    388\u001b[0m         \u001b[0;32mexcept\u001b[0m \u001b[0mStopIteration\u001b[0m \u001b[0;32mas\u001b[0m \u001b[0mexc\u001b[0m\u001b[0;34m:\u001b[0m\u001b[0;34m\u001b[0m\u001b[0;34m\u001b[0m\u001b[0m\n",
      "\u001b[0;32m~/opt/anaconda3/envs/kedro-environment/lib/python3.7/site-packages/kedro/io/core.py\u001b[0m in \u001b[0;36m<genexpr>\u001b[0;34m(.0)\u001b[0m\n\u001b[1;32m    384\u001b[0m \u001b[0;34m\u001b[0m\u001b[0m\n\u001b[0;32m--> 385\u001b[0;31m         \u001b[0mtrials\u001b[0m \u001b[0;34m=\u001b[0m \u001b[0;34m(\u001b[0m\u001b[0m_load_obj\u001b[0m\u001b[0;34m(\u001b[0m\u001b[0mclass_path\u001b[0m\u001b[0;34m)\u001b[0m \u001b[0;32mfor\u001b[0m \u001b[0mclass_path\u001b[0m \u001b[0;32min\u001b[0m \u001b[0mclass_paths\u001b[0m\u001b[0;34m)\u001b[0m\u001b[0;34m\u001b[0m\u001b[0;34m\u001b[0m\u001b[0m\n\u001b[0m\u001b[1;32m    386\u001b[0m         \u001b[0;32mtry\u001b[0m\u001b[0;34m:\u001b[0m\u001b[0;34m\u001b[0m\u001b[0;34m\u001b[0m\u001b[0m\n",
      "\u001b[0;32m~/opt/anaconda3/envs/kedro-environment/lib/python3.7/site-packages/kedro/io/core.py\u001b[0m in \u001b[0;36m_load_obj\u001b[0;34m(class_path)\u001b[0m\n\u001b[1;32m    441\u001b[0m                 \u001b[0;34mf\"kedro_project_setup/dependencies.html\"\u001b[0m\u001b[0;34m\u001b[0m\u001b[0;34m\u001b[0m\u001b[0m\n\u001b[0;32m--> 442\u001b[0;31m             ) from exc\n\u001b[0m\u001b[1;32m    443\u001b[0m         \u001b[0;32mreturn\u001b[0m \u001b[0;32mNone\u001b[0m\u001b[0;34m\u001b[0m\u001b[0;34m\u001b[0m\u001b[0m\n",
      "\u001b[0;31mDataSetError\u001b[0m: Object `CSVDataSet` cannot be loaded from `kedro.extras.datasets.pandas`. Please see the documentation on how to install relevant dependencies for kedro.extras.datasets.pandas.CSVDataSet:\nhttps://kedro.readthedocs.io/en/stable/kedro_project_setup/dependencies.html",
      "\nThe above exception was the direct cause of the following exception:\n",
      "\u001b[0;31mDataSetError\u001b[0m                              Traceback (most recent call last)",
      "\u001b[0;32m/var/folders/9_/cj8sw8f518s6hk21x3s3x23c0000gn/T/ipykernel_9768/2727528150.py\u001b[0m in \u001b[0;36m<module>\u001b[0;34m\u001b[0m\n\u001b[0;32m----> 1\u001b[0;31m \u001b[0mget_ipython\u001b[0m\u001b[0;34m(\u001b[0m\u001b[0;34m)\u001b[0m\u001b[0;34m.\u001b[0m\u001b[0mrun_line_magic\u001b[0m\u001b[0;34m(\u001b[0m\u001b[0;34m'reload_kedro'\u001b[0m\u001b[0;34m,\u001b[0m \u001b[0;34m''\u001b[0m\u001b[0;34m)\u001b[0m\u001b[0;34m\u001b[0m\u001b[0;34m\u001b[0m\u001b[0m\n\u001b[0m",
      "\u001b[0;32m~/opt/anaconda3/envs/kedro-environment/lib/python3.7/site-packages/IPython/core/interactiveshell.py\u001b[0m in \u001b[0;36mrun_line_magic\u001b[0;34m(self, magic_name, line, _stack_depth)\u001b[0m\n\u001b[1;32m   2405\u001b[0m                 \u001b[0mkwargs\u001b[0m\u001b[0;34m[\u001b[0m\u001b[0;34m'local_ns'\u001b[0m\u001b[0;34m]\u001b[0m \u001b[0;34m=\u001b[0m \u001b[0mself\u001b[0m\u001b[0;34m.\u001b[0m\u001b[0mget_local_scope\u001b[0m\u001b[0;34m(\u001b[0m\u001b[0mstack_depth\u001b[0m\u001b[0;34m)\u001b[0m\u001b[0;34m\u001b[0m\u001b[0;34m\u001b[0m\u001b[0m\n\u001b[1;32m   2406\u001b[0m             \u001b[0;32mwith\u001b[0m \u001b[0mself\u001b[0m\u001b[0;34m.\u001b[0m\u001b[0mbuiltin_trap\u001b[0m\u001b[0;34m:\u001b[0m\u001b[0;34m\u001b[0m\u001b[0;34m\u001b[0m\u001b[0m\n\u001b[0;32m-> 2407\u001b[0;31m                 \u001b[0mresult\u001b[0m \u001b[0;34m=\u001b[0m \u001b[0mfn\u001b[0m\u001b[0;34m(\u001b[0m\u001b[0;34m*\u001b[0m\u001b[0margs\u001b[0m\u001b[0;34m,\u001b[0m \u001b[0;34m**\u001b[0m\u001b[0mkwargs\u001b[0m\u001b[0;34m)\u001b[0m\u001b[0;34m\u001b[0m\u001b[0;34m\u001b[0m\u001b[0m\n\u001b[0m\u001b[1;32m   2408\u001b[0m             \u001b[0;32mreturn\u001b[0m \u001b[0mresult\u001b[0m\u001b[0;34m\u001b[0m\u001b[0;34m\u001b[0m\u001b[0m\n\u001b[1;32m   2409\u001b[0m \u001b[0;34m\u001b[0m\u001b[0m\n",
      "\u001b[0;32m~/opt/anaconda3/envs/kedro-environment/lib/python3.7/site-packages/kedro/extras/extensions/ipython.py\u001b[0m in \u001b[0;36mreload_kedro\u001b[0;34m(path, env, extra_params)\u001b[0m\n\u001b[1;32m     67\u001b[0m     \u001b[0mlogging\u001b[0m\u001b[0;34m.\u001b[0m\u001b[0mdebug\u001b[0m\u001b[0;34m(\u001b[0m\u001b[0;34m\"Loading the context from %s\"\u001b[0m\u001b[0;34m,\u001b[0m \u001b[0mdefault_project_path\u001b[0m\u001b[0;34m)\u001b[0m\u001b[0;34m\u001b[0m\u001b[0;34m\u001b[0m\u001b[0m\n\u001b[1;32m     68\u001b[0m     \u001b[0mcontext\u001b[0m \u001b[0;34m=\u001b[0m \u001b[0msession\u001b[0m\u001b[0;34m.\u001b[0m\u001b[0mload_context\u001b[0m\u001b[0;34m(\u001b[0m\u001b[0;34m)\u001b[0m\u001b[0;34m\u001b[0m\u001b[0;34m\u001b[0m\u001b[0m\n\u001b[0;32m---> 69\u001b[0;31m     \u001b[0mcatalog\u001b[0m \u001b[0;34m=\u001b[0m \u001b[0mcontext\u001b[0m\u001b[0;34m.\u001b[0m\u001b[0mcatalog\u001b[0m\u001b[0;34m\u001b[0m\u001b[0;34m\u001b[0m\u001b[0m\n\u001b[0m\u001b[1;32m     70\u001b[0m \u001b[0;34m\u001b[0m\u001b[0m\n\u001b[1;32m     71\u001b[0m     get_ipython().push(\n",
      "\u001b[0;32m~/opt/anaconda3/envs/kedro-environment/lib/python3.7/site-packages/kedro/framework/context/context.py\u001b[0m in \u001b[0;36mcatalog\u001b[0;34m(self)\u001b[0m\n\u001b[1;32m    230\u001b[0m \u001b[0;34m\u001b[0m\u001b[0m\n\u001b[1;32m    231\u001b[0m         \"\"\"\n\u001b[0;32m--> 232\u001b[0;31m         \u001b[0;32mreturn\u001b[0m \u001b[0mself\u001b[0m\u001b[0;34m.\u001b[0m\u001b[0m_get_catalog\u001b[0m\u001b[0;34m(\u001b[0m\u001b[0;34m)\u001b[0m\u001b[0;34m\u001b[0m\u001b[0;34m\u001b[0m\u001b[0m\n\u001b[0m\u001b[1;32m    233\u001b[0m \u001b[0;34m\u001b[0m\u001b[0m\n\u001b[1;32m    234\u001b[0m     \u001b[0;34m@\u001b[0m\u001b[0mproperty\u001b[0m\u001b[0;34m\u001b[0m\u001b[0;34m\u001b[0m\u001b[0m\n",
      "\u001b[0;32m~/opt/anaconda3/envs/kedro-environment/lib/python3.7/site-packages/kedro/framework/context/context.py\u001b[0m in \u001b[0;36m_get_catalog\u001b[0;34m(self, save_version, load_versions)\u001b[0m\n\u001b[1;32m    277\u001b[0m             \u001b[0mcredentials\u001b[0m\u001b[0;34m=\u001b[0m\u001b[0mconf_creds\u001b[0m\u001b[0;34m,\u001b[0m\u001b[0;34m\u001b[0m\u001b[0;34m\u001b[0m\u001b[0m\n\u001b[1;32m    278\u001b[0m             \u001b[0mload_versions\u001b[0m\u001b[0;34m=\u001b[0m\u001b[0mload_versions\u001b[0m\u001b[0;34m,\u001b[0m\u001b[0;34m\u001b[0m\u001b[0;34m\u001b[0m\u001b[0m\n\u001b[0;32m--> 279\u001b[0;31m             \u001b[0msave_version\u001b[0m\u001b[0;34m=\u001b[0m\u001b[0msave_version\u001b[0m\u001b[0;34m,\u001b[0m\u001b[0;34m\u001b[0m\u001b[0;34m\u001b[0m\u001b[0m\n\u001b[0m\u001b[1;32m    280\u001b[0m         )\n\u001b[1;32m    281\u001b[0m \u001b[0;34m\u001b[0m\u001b[0m\n",
      "\u001b[0;32m~/opt/anaconda3/envs/kedro-environment/lib/python3.7/site-packages/kedro/io/data_catalog.py\u001b[0m in \u001b[0;36mfrom_config\u001b[0;34m(cls, catalog, credentials, load_versions, save_version)\u001b[0m\n\u001b[1;32m    276\u001b[0m             \u001b[0mds_config\u001b[0m \u001b[0;34m=\u001b[0m \u001b[0m_resolve_credentials\u001b[0m\u001b[0;34m(\u001b[0m\u001b[0mds_config\u001b[0m\u001b[0;34m,\u001b[0m \u001b[0mcredentials\u001b[0m\u001b[0;34m)\u001b[0m\u001b[0;34m\u001b[0m\u001b[0;34m\u001b[0m\u001b[0m\n\u001b[1;32m    277\u001b[0m             data_sets[ds_name] = AbstractDataSet.from_config(\n\u001b[0;32m--> 278\u001b[0;31m                 \u001b[0mds_name\u001b[0m\u001b[0;34m,\u001b[0m \u001b[0mds_config\u001b[0m\u001b[0;34m,\u001b[0m \u001b[0mload_versions\u001b[0m\u001b[0;34m.\u001b[0m\u001b[0mget\u001b[0m\u001b[0;34m(\u001b[0m\u001b[0mds_name\u001b[0m\u001b[0;34m)\u001b[0m\u001b[0;34m,\u001b[0m \u001b[0msave_version\u001b[0m\u001b[0;34m\u001b[0m\u001b[0;34m\u001b[0m\u001b[0m\n\u001b[0m\u001b[1;32m    279\u001b[0m             )\n\u001b[1;32m    280\u001b[0m \u001b[0;34m\u001b[0m\u001b[0m\n",
      "\u001b[0;32m~/opt/anaconda3/envs/kedro-environment/lib/python3.7/site-packages/kedro/io/core.py\u001b[0m in \u001b[0;36mfrom_config\u001b[0;34m(cls, name, config, load_version, save_version)\u001b[0m\n\u001b[1;32m    146\u001b[0m                 \u001b[0;34mf\"An exception occurred when parsing config \"\u001b[0m\u001b[0;34m\u001b[0m\u001b[0;34m\u001b[0m\u001b[0m\n\u001b[1;32m    147\u001b[0m                 \u001b[0;34mf\"for DataSet `{name}`:\\n{str(exc)}\"\u001b[0m\u001b[0;34m\u001b[0m\u001b[0;34m\u001b[0m\u001b[0m\n\u001b[0;32m--> 148\u001b[0;31m             ) from exc\n\u001b[0m\u001b[1;32m    149\u001b[0m \u001b[0;34m\u001b[0m\u001b[0m\n\u001b[1;32m    150\u001b[0m         \u001b[0;32mtry\u001b[0m\u001b[0;34m:\u001b[0m\u001b[0;34m\u001b[0m\u001b[0;34m\u001b[0m\u001b[0m\n",
      "\u001b[0;31mDataSetError\u001b[0m: An exception occurred when parsing config for DataSet `companies`:\nObject `CSVDataSet` cannot be loaded from `kedro.extras.datasets.pandas`. Please see the documentation on how to install relevant dependencies for kedro.extras.datasets.pandas.CSVDataSet:\nhttps://kedro.readthedocs.io/en/stable/kedro_project_setup/dependencies.html"
     ]
    }
   ],
   "source": [
    "%reload_kedro"
   ]
  },
  {
   "cell_type": "code",
   "execution_count": 3,
   "id": "ca3584f4",
   "metadata": {},
   "outputs": [
    {
     "name": "stderr",
     "output_type": "stream",
     "text": [
      "UsageError: Line magic function `%kedro` not found.\n"
     ]
    }
   ],
   "source": [
    "\n"
   ]
  },
  {
   "cell_type": "code",
   "execution_count": null,
   "id": "a20201a2",
   "metadata": {},
   "outputs": [],
   "source": []
  }
 ],
 "metadata": {
  "kernelspec": {
   "display_name": "Kedro (kedro_tutorial)",
   "language": "python",
   "name": "kedro_kedro_tutorial"
  },
  "language_info": {
   "codemirror_mode": {
    "name": "ipython",
    "version": 3
   },
   "file_extension": ".py",
   "mimetype": "text/x-python",
   "name": "python",
   "nbconvert_exporter": "python",
   "pygments_lexer": "ipython3",
   "version": "3.7.13"
  }
 },
 "nbformat": 4,
 "nbformat_minor": 5
}
